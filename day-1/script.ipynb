{
 "cells": [
  {
   "cell_type": "markdown",
   "metadata": {},
   "source": [
    "### Part One"
   ]
  },
  {
   "cell_type": "code",
   "execution_count": 8,
   "metadata": {},
   "outputs": [],
   "source": [
    "left_list = []\n",
    "right_list = []\n",
    "f = open('/Users/I534731/Documents/GitHub/advent-code/day-1/data.txt', 'r')\n",
    "for line in f:\n",
    "    artifical_list = line.split('   ')\n",
    "    left_list.append(int(artifical_list[0]))\n",
    "    right_list.append(int(artifical_list[1]))\n",
    "left_list.sort()\n",
    "right_list.sort()\n"
   ]
  },
  {
   "cell_type": "markdown",
   "metadata": {},
   "source": [
    "### Wrong solution"
   ]
  },
  {
   "cell_type": "code",
   "execution_count": 12,
   "metadata": {},
   "outputs": [
    {
     "name": "stdout",
     "output_type": "stream",
     "text": [
      "30633992578\n"
     ]
    }
   ],
   "source": [
    "differences = []\n",
    "for left_number in left_list:\n",
    "    for right_number in right_list:\n",
    "        differences.append(abs(left_number - right_number))\n",
    "\n",
    "print(sum(differences))"
   ]
  },
  {
   "cell_type": "markdown",
   "metadata": {},
   "source": [
    "### Right solution"
   ]
  },
  {
   "cell_type": "code",
   "execution_count": 3,
   "metadata": {},
   "outputs": [],
   "source": [
    "mapped_list = []\n",
    "\n",
    "for number in left_list:\n",
    "    mapped_list.append({\"left_number\": number, \"right_number\": 0})\n",
    "\n",
    "for number in  mapped_list:\n",
    "    mapped_list[mapped_list.index(number)][\"right_number\"] = right_list[mapped_list.index(number)]"
   ]
  },
  {
   "cell_type": "code",
   "execution_count": 5,
   "metadata": {},
   "outputs": [],
   "source": [
    "difference = []\n",
    "\n",
    "for number in mapped_list:\n",
    "    difference.append(abs(number[\"right_number\"] - number[\"left_number\"]))"
   ]
  },
  {
   "cell_type": "code",
   "execution_count": 6,
   "metadata": {},
   "outputs": [
    {
     "name": "stdout",
     "output_type": "stream",
     "text": [
      "1151792\n"
     ]
    }
   ],
   "source": [
    "print(sum(difference))"
   ]
  },
  {
   "cell_type": "markdown",
   "metadata": {},
   "source": [
    "### Right solution easy way"
   ]
  },
  {
   "cell_type": "code",
   "execution_count": null,
   "metadata": {},
   "outputs": [],
   "source": [
    "difference = []\n",
    "for i in range(0, len(left_list)):\n",
    "    difference.append(abs(left_list[i] - right_list[i])) \n",
    "print(sum(difference))"
   ]
  },
  {
   "cell_type": "markdown",
   "metadata": {},
   "source": [
    "### Part Two"
   ]
  },
  {
   "cell_type": "code",
   "execution_count": 13,
   "metadata": {},
   "outputs": [],
   "source": [
    "right_list_histogram = dict()\n",
    "\n",
    "for number in right_list:\n",
    "    if number not in right_list_histogram:\n",
    "        right_list_histogram[number] = right_list.count(number)\n",
    "    else:\n",
    "        continue"
   ]
  },
  {
   "cell_type": "code",
   "execution_count": 16,
   "metadata": {},
   "outputs": [
    {
     "name": "stdout",
     "output_type": "stream",
     "text": [
      "21790168\n"
     ]
    }
   ],
   "source": [
    "summarized_number = []\n",
    "\n",
    "for number in left_list:\n",
    "    if number in right_list_histogram.keys():\n",
    "        summarized_number.append(number * right_list_histogram[number])\n",
    "    else:\n",
    "        summarized_number.append(number*0)\n",
    "\n",
    "print(sum(summarized_number))"
   ]
  },
  {
   "cell_type": "code",
   "execution_count": null,
   "metadata": {},
   "outputs": [],
   "source": []
  }
 ],
 "metadata": {
  "kernelspec": {
   "display_name": "Python (Poetry)",
   "language": "python",
   "name": "my_poetry_env"
  },
  "language_info": {
   "codemirror_mode": {
    "name": "ipython",
    "version": 3
   },
   "file_extension": ".py",
   "mimetype": "text/x-python",
   "name": "python",
   "nbconvert_exporter": "python",
   "pygments_lexer": "ipython3",
   "version": "3.10.9"
  }
 },
 "nbformat": 4,
 "nbformat_minor": 2
}
