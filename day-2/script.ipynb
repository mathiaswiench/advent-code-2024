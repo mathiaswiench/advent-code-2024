{
 "cells": [
  {
   "cell_type": "markdown",
   "metadata": {},
   "source": [
    "### Part One"
   ]
  },
  {
   "cell_type": "code",
   "execution_count": 1,
   "metadata": {},
   "outputs": [],
   "source": [
    "formatted_reports = []\n",
    "f = open('/Users/matthias/Documents/Github/advent-code-2024/day-2/data.txt', 'r')\n",
    "for report in f:\n",
    "    levels = report.split(' ')\n",
    "    formatted_reports.append( [int(level) for level in levels] ) "
   ]
  },
  {
   "cell_type": "code",
   "execution_count": 63,
   "metadata": {},
   "outputs": [
    {
     "name": "stdout",
     "output_type": "stream",
     "text": [
      "306\n"
     ]
    }
   ],
   "source": [
    "correct_reports = []\n",
    "\n",
    "def check_increasing_values(report: list):\n",
    "    checked_levels = []\n",
    "    for i in range(len(report) - 1):\n",
    "        if (report[i] < report[i+1]) and (abs(report[i] - report[i+1]) < 4):\n",
    "            checked_levels.append(True)\n",
    "        else: \n",
    "            checked_levels.append(False)\n",
    "    return all(level for level in checked_levels)\n",
    "\n",
    "\n",
    "def check_decreasing_values(report: list):\n",
    "    checked_levels = []\n",
    "    for i in range(len(report) - 1):\n",
    "        if (report[i] > report[i+1]) and (abs(report[i] - report[i+1]) < 4):\n",
    "            checked_levels.append(True)\n",
    "        else: \n",
    "            checked_levels.append(False)\n",
    "\n",
    "    return all(level for level in checked_levels)\n",
    "\n",
    "for report in formatted_reports:\n",
    "    if check_increasing_values(report) == True or check_decreasing_values(report) == True:\n",
    "        correct_reports.append(report)\n",
    "\n",
    "print(len(correct_reports))\n"
   ]
  },
  {
   "cell_type": "markdown",
   "metadata": {},
   "source": [
    "### Part Two"
   ]
  },
  {
   "cell_type": "code",
   "execution_count": 2,
   "metadata": {},
   "outputs": [
    {
     "name": "stdout",
     "output_type": "stream",
     "text": [
      "366\n"
     ]
    }
   ],
   "source": [
    "correct_reports = []\n",
    "\n",
    "def check_increasing_values(report: list):\n",
    "    checked_levels = [True]\n",
    "    for i in range(len(report) - 1):\n",
    "        if (report[i] < report[i+1]) and (abs(report[i] - report[i+1]) < 4):\n",
    "            checked_levels.append(True)\n",
    "        else: \n",
    "            checked_levels.append(False)\n",
    "    return [level for level in checked_levels]\n",
    "\n",
    "\n",
    "def check_decreasing_values(report: list):\n",
    "    checked_levels = [True]\n",
    "    for i in range(len(report) - 1):\n",
    "        if (report[i] > report[i+1]) and (abs(report[i] - report[i+1]) < 4):\n",
    "            checked_levels.append(True)\n",
    "        else: \n",
    "            checked_levels.append(False)\n",
    "\n",
    "    return [level for level in checked_levels]\n",
    "\n",
    "for report in formatted_reports:\n",
    "    if all(check_increasing_values(report)) == True or all(check_decreasing_values(report)) == True:\n",
    "        correct_reports.append(report)\n",
    "    else:\n",
    "        for i in range(len(report)):\n",
    "            updated_report = report[:i] + report[i+1:]\n",
    "            if all(check_increasing_values(updated_report)) == True or all(check_decreasing_values(updated_report)) == True:\n",
    "                correct_reports.append(report)\n",
    "                break\n",
    "\n",
    "print(len(correct_reports))\n"
   ]
  }
 ],
 "metadata": {
  "kernelspec": {
   "display_name": "advent-code",
   "language": "python",
   "name": "python3"
  },
  "language_info": {
   "codemirror_mode": {
    "name": "ipython",
    "version": 3
   },
   "file_extension": ".py",
   "mimetype": "text/x-python",
   "name": "python",
   "nbconvert_exporter": "python",
   "pygments_lexer": "ipython3",
   "version": "3.13.1"
  }
 },
 "nbformat": 4,
 "nbformat_minor": 2
}
