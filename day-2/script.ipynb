{
 "cells": [
  {
   "cell_type": "markdown",
   "metadata": {},
   "source": [
    "### Part One"
   ]
  },
  {
   "cell_type": "code",
   "execution_count": 32,
   "metadata": {},
   "outputs": [],
   "source": [
    "formatted_reports = []\n",
    "f = open('/Users/matthias/Documents/Github/advent-code-2024/day-2/test_data_2.txt', 'r')\n",
    "for report in f:\n",
    "    levels = report.split(' ')\n",
    "    formatted_reports.append( [int(level) for level in levels] ) "
   ]
  },
  {
   "cell_type": "code",
   "execution_count": 10,
   "metadata": {},
   "outputs": [
    {
     "name": "stdout",
     "output_type": "stream",
     "text": [
      "[7, 6, 4, 2, 1]\n",
      "check_increasing_values False\n",
      "check_decreasing_values True\n",
      "[1, 2, 7, 8, 9]\n",
      "check_increasing_values False\n",
      "check_decreasing_values False\n",
      "[9, 7, 6, 2, 1]\n",
      "check_increasing_values False\n",
      "check_decreasing_values False\n",
      "[1, 3, 2, 4, 5]\n",
      "check_increasing_values False\n",
      "check_decreasing_values False\n",
      "[8, 6, 4, 4, 1]\n",
      "check_increasing_values False\n",
      "check_decreasing_values False\n",
      "[1, 3, 6, 7, 9]\n",
      "check_increasing_values True\n",
      "check_decreasing_values False\n",
      "6\n",
      "2\n"
     ]
    }
   ],
   "source": [
    "correct_reports = []\n",
    "\n",
    "def check_increasing_values(report: list):\n",
    "    checked_levels = []\n",
    "    for i in range(len(report) - 1):\n",
    "        if (report[i] < report[i+1]) and (abs(report[i] - report[i+1]) < 4):\n",
    "            # print(\"Current:\", report[i])\n",
    "            # print(\"Next:\", report[i+1])\n",
    "            # print(\"Diff:\", abs(report[i]-report[i+1]))\n",
    "            # print(\"__________\")\n",
    "            checked_levels.append(True)\n",
    "        else: \n",
    "            checked_levels.append(False)\n",
    "    return all(level for level in checked_levels)\n",
    "\n",
    "\n",
    "def check_decreasing_values(report: list):\n",
    "    checked_levels = []\n",
    "    for i in range(len(report) - 1):\n",
    "        if (report[i] > report[i+1]) and (abs(report[i] - report[i+1]) < 4):\n",
    "            # print(\"Current:\", report[i])\n",
    "            # print(\"Next:\", report[i+1])\n",
    "            # print(\"Diff:\", abs(report[i]-report[i+1]))\n",
    "            # print(\"__________\")\n",
    "            checked_levels.append(True)\n",
    "        else: \n",
    "            checked_levels.append(False)\n",
    "\n",
    "    return all(level for level in checked_levels)\n",
    "\n",
    "for report in formatted_reports:\n",
    "    print(report)\n",
    "    print(\"check_increasing_values\", check_increasing_values(report))\n",
    "    print(\"check_decreasing_values\", check_decreasing_values(report))\n",
    "    if check_increasing_values(report) == True or check_decreasing_values(report) == True:\n",
    "        correct_reports.append(report)\n",
    "\n",
    "print(len(formatted_reports))\n",
    "print(len(correct_reports))\n"
   ]
  },
  {
   "cell_type": "markdown",
   "metadata": {},
   "source": [
    "### Part Two"
   ]
  },
  {
   "cell_type": "code",
   "execution_count": null,
   "metadata": {},
   "outputs": [
    {
     "name": "stdout",
     "output_type": "stream",
     "text": [
      "[55, 56, 59, 62, 61]\n",
      "after update correct:  [55, 56, 59, 62, 61]\n",
      "after update correct:  [55, 56, 59, 62]\n",
      "1\n",
      "False\n",
      "[68, 70, 71, 74, 75, 76, 78, 78]\n",
      "after update correct:  [68, 70, 71, 74, 75, 76, 78, 78]\n",
      "after update correct:  [68, 70, 71, 74, 75, 76, 78]\n",
      "2\n",
      "False\n",
      "[52, 55, 56, 58, 62]\n",
      "after update correct:  [52, 55, 56, 58, 62]\n",
      "after update correct:  [52, 55, 56, 58]\n",
      "3\n",
      "False\n",
      "[73, 76, 79, 82, 84, 85, 87, 94]\n",
      "after update correct:  [73, 76, 79, 82, 84, 85, 87, 94]\n",
      "after update correct:  [73, 76, 79, 82, 84, 85, 87]\n",
      "4\n",
      "False\n",
      "[1, 4, 5, 6, 3, 4]\n",
      "False\n",
      "[77, 80, 78, 80, 83, 81]\n",
      "False\n",
      "[69, 72, 73, 71, 71]\n",
      "False\n",
      "[14, 15, 17, 18, 17, 21]\n",
      "False\n",
      "[39, 42, 43, 45, 47, 46, 53]\n",
      "False\n",
      "[72, 73, 73, 74, 75]\n",
      "after update correct:  [72, 73, 73, 74, 75]\n",
      "after update correct:  [72, 73, 74, 75]\n",
      "5\n",
      "False\n",
      "5\n"
     ]
    }
   ],
   "source": [
    "correct_reports = []\n",
    "\n",
    "def check_increasing_values(report: list):\n",
    "    checked_levels = [True]\n",
    "    for i in range(len(report) - 1):\n",
    "        if (report[i] < report[i+1]) and (abs(report[i] - report[i+1]) < 4):\n",
    "            checked_levels.append(True)\n",
    "        else: \n",
    "            checked_levels.append(False)\n",
    "    return [level for level in checked_levels]\n",
    "\n",
    "\n",
    "def check_decreasing_values(report: list):\n",
    "    checked_levels = [True]\n",
    "    for i in range(len(report) - 1):\n",
    "        if (report[i] > report[i+1]) and (abs(report[i] - report[i+1]) < 4):\n",
    "            checked_levels.append(True)\n",
    "        else: \n",
    "            checked_levels.append(False)\n",
    "\n",
    "    return [level for level in checked_levels]\n",
    "\n",
    "for report in formatted_reports:\n",
    "    print(report)\n",
    "    if all(check_increasing_values(report)) == True or all(check_decreasing_values(report)) == True:\n",
    "        print('direct correct: ', report)\n",
    "        correct_reports.append(report)\n",
    "    else:\n",
    "        if check_increasing_values(report).count(False) == 1:\n",
    "            result = check_increasing_values(report)\n",
    "            index_of_false_value = result.index(False)\n",
    "            updated_report = report[:index_of_false_value] + report[index_of_false_value+1:]\n",
    "            if all(check_increasing_values(updated_report)):\n",
    "                print('after update correct: ', report)\n",
    "                print('after update correct: ', updated_report)\n",
    "                correct_reports.append(report)\n",
    "                print(len(correct_reports))\n",
    "        if check_decreasing_values(report).count(False) == 1:\n",
    "            result = check_decreasing_values(report)\n",
    "            index_of_false_value = result.index(False)\n",
    "            updated_report = report[:index_of_false_value] + report[index_of_false_value+1:]\n",
    "            if all(check_decreasing_values(updated_report)):\n",
    "                print('after update correct: ', report)\n",
    "                print('after update correct: ', updated_report)\n",
    "                correct_reports.append(report)\n",
    "                print(len(correct_reports))\n",
    "\n",
    "            \n",
    "\n",
    "print(len(correct_reports))\n"
   ]
  },
  {
   "cell_type": "code",
   "execution_count": null,
   "metadata": {},
   "outputs": [],
   "source": []
  }
 ],
 "metadata": {
  "kernelspec": {
   "display_name": "advent-code",
   "language": "python",
   "name": "python3"
  },
  "language_info": {
   "codemirror_mode": {
    "name": "ipython",
    "version": 3
   },
   "file_extension": ".py",
   "mimetype": "text/x-python",
   "name": "python",
   "nbconvert_exporter": "python",
   "pygments_lexer": "ipython3",
   "version": "3.13.1"
  }
 },
 "nbformat": 4,
 "nbformat_minor": 2
}
